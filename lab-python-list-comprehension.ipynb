{
 "cells": [
  {
   "cell_type": "markdown",
   "id": "25d7736c-ba17-4aff-b6bb-66eba20fbf4e",
   "metadata": {},
   "source": [
    "# Lab | List, Dict and Set Comprehension"
   ]
  },
  {
   "cell_type": "markdown",
   "id": "7dd3cbde-675a-4b81-92c3-f728846dbe06",
   "metadata": {},
   "source": [
    "## Exercise: Managing Customer Orders Optimized with Comprehension"
   ]
  },
  {
   "cell_type": "code",
   "execution_count": 31,
   "id": "6cab7e90-b2ee-4214-afce-8c13411c7ab6",
   "metadata": {
    "tags": []
   },
   "outputs": [
    {
     "ename": "SyntaxError",
     "evalue": "unterminated string literal (detected at line 1) (3255192163.py, line 1)",
     "output_type": "error",
     "traceback": [
      "\u001b[1;36m  Cell \u001b[1;32mIn[31], line 1\u001b[1;36m\u001b[0m\n\u001b[1;33m    In the previous exercise, you developed a program to manage customer orders and inventory. Now, let's take it a step further and incorporate comprehension into your code.\u001b[0m\n\u001b[1;37m                                                                                                       ^\u001b[0m\n\u001b[1;31mSyntaxError\u001b[0m\u001b[1;31m:\u001b[0m unterminated string literal (detected at line 1)\n"
     ]
    }
   ],
   "source": [
    "In the previous exercise, you developed a program to manage customer orders and inventory. Now, let's take it a step further and incorporate comprehension into your code.\n",
    "\n",
    "Follow the steps below to complete the exercise:\n",
    "\n",
    "1. Review your code from the previous exercise and identify areas where you can apply comprehension to simplify and streamline your code. \n",
    "\n",
    "    - *Hint: Apply it to initialize inventory, updating the inventory and printing the updated inventory.*\n",
    "    \n",
    "    - For example, in initializing the inventory, we could have:\n",
    "    \n",
    "        ```python\n",
    "        def initialize_inventory(products):\n",
    "            inventory = {product: int(input(f\"Enter the quantity of {product}s available: \")) for product in products}\n",
    "            return inventory\n",
    "\n",
    "        ```\n",
    "<br>\n",
    "    \n",
    "    \n",
    "2. Modify the function get_customer_orders so it prompts the user to enter the number of customer orders and gathers the product names using a loop and user input. Use comprehension.\n",
    "\n",
    "3. Add a new function to calculate the total price of the customer order. For each product in customer_orders, prompt the user to enter the price of that product. Use comprehension to calculate the total price. Note: assume that the user can only have 1 unit of each product.\n",
    "\n",
    "4. Modify the update_inventory function to remove the product from the inventory if its quantity becomes zero after fulfilling the customer orders. Use comprehension to filter out the products with a quantity of zero from the inventory.\n",
    "\n",
    "5. Print the total price of the customer order.\n",
    "\n",
    "Your code should produce output similar to the following:\n",
    "\n",
    "```python\n",
    "Enter the quantity of t-shirts available:  5\n",
    "Enter the quantity of mugs available:  4\n",
    "Enter the quantity of hats available:  3\n",
    "Enter the quantity of books available:  2\n",
    "Enter the quantity of keychains available:  1\n",
    "Enter the number of customer orders:  2\n",
    "Enter the name of a product that a customer wants to order:  hat\n",
    "Enter the name of a product that a customer wants to order:  keychain\n",
    "\n",
    "Order Statistics:\n",
    "Total Products Ordered: 2\n",
    "Percentage of Unique Products Ordered: 40.0\n",
    "\n",
    "Updated Inventory:\n",
    "t-shirt: 5\n",
    "mug: 4\n",
    "hat: 2\n",
    "book: 2\n",
    "Enter the price of keychain:  5\n",
    "Enter the price of hat:  10\n",
    "Total Price: 15.0\n",
    "\n",
    "```\n"
   ]
  },
  {
   "cell_type": "code",
   "execution_count": 40,
   "id": "62f3e7ed-245d-4fe2-9dfa-25e187ef651b",
   "metadata": {
    "tags": []
   },
   "outputs": [
    {
     "ename": "SyntaxError",
     "evalue": "invalid syntax (4169712099.py, line 39)",
     "output_type": "error",
     "traceback": [
      "\u001b[1;36m  Cell \u001b[1;32mIn[40], line 39\u001b[1;36m\u001b[0m\n\u001b[1;33m    if inventory [product] -= 1:\u001b[0m\n\u001b[1;37m                           ^\u001b[0m\n\u001b[1;31mSyntaxError\u001b[0m\u001b[1;31m:\u001b[0m invalid syntax\n"
     ]
    }
   ],
   "source": [
    "# 1\n",
    "\n",
    "\n",
    "products = {'tshirts' : 5, 'mugs' : 4, 'hats' : 3, 'books' : 2, 'keychain' : 1}\n",
    "\n",
    "def initialize_inventory(products):\n",
    "    inventory = {}\n",
    "    for product in products:\n",
    "        stock = int(input(f\"Enter the initial stock for {product}: \"))\n",
    "        inventory[product] = stock\n",
    "    return inventory\n",
    "\n",
    "\n",
    "inventory = {product: int(input(f\"Enter the initial stock for {product}: \")) for product in products}\n",
    "            \n",
    "inventory\n",
    "\n",
    "def get_customer_orders():\n",
    "    products = [\"t-shirts\", \"book\", \"mug\", \"hat\", \"keychain\"]\n",
    "    customer_orders = set()\n",
    "    number_of_orders = int(input(\"how many of them would you like to order\"))\n",
    "    for i in range(number_of_orders):\n",
    "        product_name = input(\"Enter the name of the product you want to order (or 'done' to finish): \")\n",
    "        \n",
    "        if product_name == 'done':\n",
    "            break\n",
    "        \n",
    "        if product_name in products:\n",
    "            print(f\"You have chosen to order {product_name}.\")\n",
    "            customer_orders.add(product_name)\n",
    "        else:\n",
    "            print(\"Sorry, we don't have that product available.\")\n",
    "\n",
    "    return customer_orders\n",
    "\n",
    "def update_inventory(customer_orders, inventory):\n",
    "    for product in customer_orders:\n",
    "   \n",
    "        if inventory [product] -= 1:\n",
    "            inventory.add(customer_orders)\n",
    "        else:\n",
    "            inventory[product] == 0\n",
    "            inventory.remove(product)\n",
    "            \n",
    "        \n",
    "\n",
    "        \n",
    "        \n",
    "def calculate_order_statistics(customer_orders, products):\n",
    "    total_ordered = len(customer_orders)\n",
    "    unique_ordered = len(set(customer_orders))\n",
    "    percentage_unique = (unique_ordered / len(products)) * 100\n",
    "    return total_ordered, percentage_unique\n",
    "\n",
    "def print_order_statistics(order_statistics):\n",
    "    total_ordered, percentage_unique = order_statistics\n",
    "    print(f\"Total products ordered: {total_ordered}\")\n",
    "    print(f\"Percentage of unique products ordered: {percentage_unique:.2f}%\")\n",
    "\n",
    "def print_updated_inventory(inventory):\n",
    "    print(\"Updated Inventory:\")\n",
    "    for product, stock in inventory.items():\n",
    "        print(f\"{product}: {stock}\")\n",
    "\n",
    "def main():\n",
    "    products = [\"t-shirts\", \"book\", \"mug\", \"hat\", \"keychain\"]\n",
    "    inventory = initialize_inventory(products)\n",
    "    \n",
    "    customer_orders = get_customer_orders()\n",
    "    update_inventory(customer_orders, inventory)\n",
    "    \n",
    "    order_statistics = calculate_order_statistics(customer_orders, products)\n",
    "    print_order_statistics(order_statistics)\n",
    "    \n",
    "    print_updated_inventory(inventory)\n",
    "\n",
    "if __name__ == \"__main__\":\n",
    "    main()\n"
   ]
  },
  {
   "cell_type": "code",
   "execution_count": 29,
   "id": "69719ee6-eaf8-4789-a52f-f9229590792a",
   "metadata": {
    "tags": []
   },
   "outputs": [
    {
     "name": "stdin",
     "output_type": "stream",
     "text": [
      "Enter the name of the product you want to order:  hat\n"
     ]
    },
    {
     "name": "stdout",
     "output_type": "stream",
     "text": [
      "hat has been added to your order.\n"
     ]
    },
    {
     "name": "stdin",
     "output_type": "stream",
     "text": [
      "Do you want to add another item? (yes/no):  yes\n",
      "Enter the name of the product you want to order:  keychain\n"
     ]
    },
    {
     "name": "stdout",
     "output_type": "stream",
     "text": [
      "keychain has been added to your order.\n"
     ]
    },
    {
     "name": "stdin",
     "output_type": "stream",
     "text": [
      "Do you want to add another item? (yes/no):  no\n"
     ]
    },
    {
     "name": "stdout",
     "output_type": "stream",
     "text": [
      "Your final order includes: {'keychain', 'hat'}\n"
     ]
    },
    {
     "name": "stdin",
     "output_type": "stream",
     "text": [
      "Enter the price for keychain:  5\n",
      "Enter the price for hat:  10\n"
     ]
    },
    {
     "name": "stdout",
     "output_type": "stream",
     "text": [
      "Total price of your order: 15\n"
     ]
    }
   ],
   "source": [
    "#3\n",
    "\n",
    "def calculate_total_price(customer_orders):\n",
    "    total_price = sum(int(input(f\"Enter the price for {product}: \")) for product in customer_orders)\n",
    "    return total_price\n",
    "\n",
    "products = [\"t-shirts\", \"book\", \"mug\", \"hat\", \"keychain\"]\n",
    "customer_orders = set()\n",
    "\n",
    "while True:\n",
    "    product_name = input(\"Enter the name of the product you want to order: \")\n",
    "\n",
    "    if product_name in products:\n",
    "        customer_orders.add(product_name)\n",
    "        print(f\"{product_name} has been added to your order.\")\n",
    "    else:\n",
    "        print(\"Sorry, we don't have that product available.\")\n",
    "\n",
    "    another_item = input(\"Do you want to add another item? (yes/no): \")\n",
    "    if another_item.lower() != \"yes\":\n",
    "        break\n",
    "\n",
    "print(\"Your final order includes:\", customer_orders)\n",
    "\n",
    "total_price = calculate_total_price(customer_orders)\n",
    "print(f\"Total price of your order: {total_price}\")"
   ]
  },
  {
   "cell_type": "code",
   "execution_count": null,
   "id": "8f0f1a91-9f63-4874-9204-4087d0a143c4",
   "metadata": {},
   "outputs": [],
   "source": []
  }
 ],
 "metadata": {
  "kernelspec": {
   "display_name": "Python 3 (ipykernel)",
   "language": "python",
   "name": "python3"
  },
  "language_info": {
   "codemirror_mode": {
    "name": "ipython",
    "version": 3
   },
   "file_extension": ".py",
   "mimetype": "text/x-python",
   "name": "python",
   "nbconvert_exporter": "python",
   "pygments_lexer": "ipython3",
   "version": "3.11.3"
  }
 },
 "nbformat": 4,
 "nbformat_minor": 5
}

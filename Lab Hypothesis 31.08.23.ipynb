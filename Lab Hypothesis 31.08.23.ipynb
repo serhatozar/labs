{
 "cells": [
  {
   "cell_type": "code",
   "execution_count": 11,
   "id": "052d67ad",
   "metadata": {},
   "outputs": [],
   "source": [
    "import scipy\n",
    "import numpy as np\n",
    "import pandas as pd\n",
    "import scipy.stats as stats"
   ]
  },
  {
   "cell_type": "code",
   "execution_count": 12,
   "id": "93e24733",
   "metadata": {},
   "outputs": [],
   "source": [
    "###Settung up Hypothesis\n",
    "#Ho : μ = 120 mm Hg\n",
    "#Ha : mu > 130.1 mm Hg"
   ]
  },
  {
   "cell_type": "code",
   "execution_count": 13,
   "id": "02da9f27",
   "metadata": {},
   "outputs": [],
   "source": [
    "sigma = 21.21"
   ]
  },
  {
   "cell_type": "code",
   "execution_count": 14,
   "id": "0572aa84",
   "metadata": {},
   "outputs": [],
   "source": [
    "z_score = (130.1 - 120) / (sigma/np.sqrt(100))"
   ]
  },
  {
   "cell_type": "code",
   "execution_count": 15,
   "id": "5f7150f7",
   "metadata": {},
   "outputs": [],
   "source": [
    "cv = scipy.stats.norm.ppf(0.95)  # (1-alfa one sided, 1-alfa/2 2 sided)"
   ]
  },
  {
   "cell_type": "code",
   "execution_count": 16,
   "id": "e25a1c81",
   "metadata": {},
   "outputs": [],
   "source": [
    "##### compare z_score and CV"
   ]
  },
  {
   "cell_type": "code",
   "execution_count": 17,
   "id": "c165651b",
   "metadata": {},
   "outputs": [
    {
     "name": "stdout",
     "output_type": "stream",
     "text": [
      "4.761904761904759\n",
      "1.6448536269514722\n"
     ]
    }
   ],
   "source": [
    "print(z_score)\n",
    "print(cv)"
   ]
  },
  {
   "cell_type": "code",
   "execution_count": 18,
   "id": "4cf2c63c",
   "metadata": {
    "scrolled": true
   },
   "outputs": [
    {
     "data": {
      "text/plain": [
       "True"
      ]
     },
     "execution_count": 18,
     "metadata": {},
     "output_type": "execute_result"
    }
   ],
   "source": [
    "z_score > cv"
   ]
  },
  {
   "cell_type": "code",
   "execution_count": 19,
   "id": "19a77f0e",
   "metadata": {},
   "outputs": [],
   "source": [
    "##### conclusion"
   ]
  },
  {
   "cell_type": "code",
   "execution_count": null,
   "id": "bf56e4bf",
   "metadata": {},
   "outputs": [],
   "source": [
    "The z_score is bigger than critical value, therefore we reject the null hypothesis"
   ]
  }
 ],
 "metadata": {
  "kernelspec": {
   "display_name": "Python 3 (ipykernel)",
   "language": "python",
   "name": "python3"
  },
  "language_info": {
   "codemirror_mode": {
    "name": "ipython",
    "version": 3
   },
   "file_extension": ".py",
   "mimetype": "text/x-python",
   "name": "python",
   "nbconvert_exporter": "python",
   "pygments_lexer": "ipython3",
   "version": "3.11.3"
  }
 },
 "nbformat": 4,
 "nbformat_minor": 5
}

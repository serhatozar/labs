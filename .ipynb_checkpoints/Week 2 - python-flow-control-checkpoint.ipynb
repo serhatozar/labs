{
 "cells": [
  {
   "cell_type": "markdown",
   "id": "d3bfc191-8885-42ee-b0a0-bbab867c6f9f",
   "metadata": {
    "tags": []
   },
   "source": [
    "# Lab | Flow Control"
   ]
  },
  {
   "cell_type": "markdown",
   "id": "3851fcd1-cf98-4653-9c89-e003b7ec9400",
   "metadata": {},
   "source": [
    "## Exercise: Managing Customer Orders Optimized\n",
    "\n",
    "In the last lab, you were starting an online store that sells various products. To ensure smooth operations, you developed a program that manages customer orders and inventory.\n",
    "\n",
    "You did so without using flow control. Let's go a step further and improve this code.\n",
    "\n",
    "Follow the steps below to complete the exercise:\n",
    "\n",
    "1. Look at your code from the lab data structures, and improve repeated code with loops.\n",
    "\n",
    "2. Instead of asking the user to input the name of three products that a customer wants to order, do the following:\n",
    "    \n",
    "    a. Prompt the user to enter the name of a product that a customer wants to order.\n",
    "    \n",
    "    b. Add the product name to the \"customer_orders\" set.\n",
    "    \n",
    "    c. Ask the user if they want to add another product (yes/no).\n",
    "    \n",
    "    d. Continue the loop until the user does not want to add another product.\n",
    "\n",
    "3. Instead of updating the inventory by subtracting 1 from the quantity of each product, only do it for  the products that were ordered (those in \"customer_orders\")."
   ]
  },
  {
   "cell_type": "code",
   "execution_count": 2,
   "id": "ad0fa60f",
   "metadata": {},
   "outputs": [],
   "source": [
    "products = [\"t-shirts\", \"mug\", \"hat\", \"book\",\"keychain\"]"
   ]
  },
  {
   "cell_type": "code",
   "execution_count": 3,
   "id": "7942822f",
   "metadata": {},
   "outputs": [],
   "source": [
    "inventory = {}\n",
    "customer_orders = set()"
   ]
  },
  {
   "cell_type": "code",
   "execution_count": 4,
   "id": "4cf7e57c",
   "metadata": {},
   "outputs": [
    {
     "name": "stdout",
     "output_type": "stream",
     "text": [
      "quantity of t-shirts30\n",
      "quantity of mug40\n",
      "quantity of hat50\n",
      "quantity of book60\n",
      "quantity of keychain5\n",
      "{'t-shirts': 30, 'mug': 40, 'hat': 50, 'book': 60, 'keychain': 5}\n"
     ]
    }
   ],
   "source": [
    "for item in products:\n",
    "    quantity = int(input(f\"quantity of {item}\"))\n",
    "    inventory.update({item:quantity})\n",
    "print(inventory)"
   ]
  },
  {
   "cell_type": "code",
   "execution_count": 5,
   "id": "bb9f1c3f",
   "metadata": {},
   "outputs": [
    {
     "name": "stdout",
     "output_type": "stream",
     "text": [
      "Enter the name of the product you want to order: book\n",
      "You have chosen to order book.\n",
      "{'book'}\n"
     ]
    }
   ],
   "source": [
    "products = [\"t-shirts\", \"book\", \"mug\", \"hat\", \"keychain\"]\n",
    "\n",
    "product_name = input(\"Enter the name of the product you want to order: \")\n",
    "\n",
    "if product_name in products:\n",
    "    print(f\"You have chosen to order {product_name}.\")\n",
    "    customer_orders.add(product_name)\n",
    "    print(customer_orders)\n",
    "else:\n",
    "    print(\"Sorry, we don't have that product available.\")\n",
    "    \n"
   ]
  },
  {
   "cell_type": "raw",
   "id": "dc5eb967",
   "metadata": {},
   "source": []
  },
  {
   "cell_type": "code",
   "execution_count": 6,
   "id": "d454a50b",
   "metadata": {},
   "outputs": [
    {
     "name": "stdout",
     "output_type": "stream",
     "text": [
      "Do you want to add another item? (yes/no): no\n",
      "Ready to pay?zes\n",
      "Your final order includes: {'book'}\n"
     ]
    }
   ],
   "source": [
    "\n",
    "another_item = input(\"Do you want to add another item? (yes/no): \")\n",
    "if another_item == \"yes\":\n",
    "    product_name = input(\"What would you like to order?\")\n",
    "    if product_name in products:\n",
    "        print(f\"You have chosen to order {product_name}.\")\n",
    "        customer_orders.add(product_name)\n",
    "        print(customer_orders)\n",
    "else:\n",
    "    input(\"Ready to pay?\")\n",
    "        \n",
    "\n",
    "print(\"Your final order includes:\", customer_orders)"
   ]
  },
  {
   "cell_type": "code",
   "execution_count": 7,
   "id": "8371d3fb",
   "metadata": {},
   "outputs": [],
   "source": [
    "products = [\"t-shirts\", \"book\", \"mug\", \"hat\", \"keychain\"]\n",
    "customer_orders = set()\n",
    "\n"
   ]
  },
  {
   "cell_type": "code",
   "execution_count": null,
   "id": "51b76f15",
   "metadata": {},
   "outputs": [],
   "source": []
  }
 ],
 "metadata": {
  "kernelspec": {
   "display_name": "Python 3 (ipykernel)",
   "language": "python",
   "name": "python3"
  },
  "language_info": {
   "codemirror_mode": {
    "name": "ipython",
    "version": 3
   },
   "file_extension": ".py",
   "mimetype": "text/x-python",
   "name": "python",
   "nbconvert_exporter": "python",
   "pygments_lexer": "ipython3",
   "version": "3.11.3"
  }
 },
 "nbformat": 4,
 "nbformat_minor": 5
}

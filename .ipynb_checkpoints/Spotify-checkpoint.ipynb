{
 "cells": [
  {
   "cell_type": "code",
   "execution_count": 5,
   "id": "ef4f5326",
   "metadata": {},
   "outputs": [
    {
     "name": "stdout",
     "output_type": "stream",
     "text": [
      "\n"
     ]
    },
    {
     "name": "stderr",
     "output_type": "stream",
     "text": [
      "C:\\Users\\Serhat\\anaconda3\\Lib\\site-packages\\sklearn\\cluster\\_kmeans.py:1412: FutureWarning: The default value of `n_init` will change from 10 to 'auto' in 1.4. Set the value of `n_init` explicitly to suppress the warning\n",
      "  super()._check_params_vs_input(X, default_n_init=10)\n"
     ]
    },
    {
     "name": "stdout",
     "output_type": "stream",
     "text": [
      "What are you fancy to listen now?Macarena\n"
     ]
    },
    {
     "data": {
      "text/html": [
       "\n",
       "        <iframe\n",
       "            width=\"320\"\n",
       "            height=\"80\"\n",
       "            src=\"https://open.spotify.com/embed/track/4oaj36KzXRgDg4McgcTsZK?frameborder=0&allowtransparency=true&allow=encrypted-media\"\n",
       "            frameborder=\"0\"\n",
       "            allowfullscreen\n",
       "            \n",
       "        ></iframe>\n",
       "        "
      ],
      "text/plain": [
       "<IPython.lib.display.IFrame at 0x1f788d4ca50>"
      ]
     },
     "metadata": {},
     "output_type": "display_data"
    },
    {
     "name": "stdout",
     "output_type": "stream",
     "text": [
      "Here you go!\n"
     ]
    },
    {
     "name": "stderr",
     "output_type": "stream",
     "text": [
      "C:\\Users\\Serhat\\anaconda3\\Lib\\site-packages\\sklearn\\base.py:464: UserWarning: X does not have valid feature names, but KMeans was fitted with feature names\n",
      "  warnings.warn(\n"
     ]
    },
    {
     "data": {
      "text/html": [
       "\n",
       "        <iframe\n",
       "            width=\"320\"\n",
       "            height=\"80\"\n",
       "            src=\"https://open.spotify.com/embed/track/5YqEzk3C5c3UZ1D5fJUlXA?frameborder=0&allowtransparency=true&allow=encrypted-media\"\n",
       "            frameborder=\"0\"\n",
       "            allowfullscreen\n",
       "            \n",
       "        ></iframe>\n",
       "        "
      ],
      "text/plain": [
       "<IPython.lib.display.IFrame at 0x1f788d4c390>"
      ]
     },
     "metadata": {},
     "output_type": "display_data"
    }
   ],
   "source": [
    "import numpy as np\n",
    "import pandas as pd\n",
    "import pickle\n",
    "import difflib\n",
    "import spotipy\n",
    "from sklearn import datasets # sklearn comes with some toy datasets to practice\n",
    "from sklearn.preprocessing import StandardScaler\n",
    "from sklearn.cluster import KMeans\n",
    "from matplotlib import pyplot\n",
    "from sklearn.metrics import silhouette_score\n",
    "from spotipy.oauth2 import SpotifyClientCredentials\n",
    "import config\n",
    "\n",
    "sp = spotipy.Spotify(auth_manager=SpotifyClientCredentials(client_id= config.client_id,\n",
    "                                                           client_secret= config.client_secret))\n",
    "df = pd.read_csv('audio_features_df.csv')\n",
    "df_b = pd.read_csv('df_b.csv')\n",
    "df_b = df_b.drop(['Unnamed: 0'], axis=1)\n",
    "\n",
    "\n",
    "numerical = df.select_dtypes(np.number)\n",
    "X = numerical\n",
    "X = X.drop(['Unnamed: 0'], axis=1)\n",
    "scaler = StandardScaler()\n",
    "scaler.fit(X)\n",
    "X_scaled = scaler.transform(X)\n",
    "X_scaled_df = pd.DataFrame(X_scaled, columns = X.columns)\n",
    "#display(X.head())\n",
    "print()\n",
    "\n",
    "kmeans = KMeans(n_clusters=40, random_state=1234)\n",
    "kmeans.fit(X_scaled_df)\n",
    "labels = kmeans.labels_\n",
    "clusters_ = labels\n",
    "X[\"cluster\"] = clusters_\n",
    "\n",
    "\n",
    "from IPython.display import IFrame\n",
    "\n",
    "track_id = \"3dPQuX8Gs42Y7b454ybpMR\"\n",
    "IFrame(src=\"https://open.spotify.com/embed/track/\"+track_id,\n",
    "       width=\"320\",\n",
    "       height=\"80\",\n",
    "       frameborder=\"0\",\n",
    "       allowtransparency=\"true\",\n",
    "       allow=\"encrypted-media\",\n",
    "      )\n",
    "\n",
    "\n",
    "def play_song(track_id):\n",
    "    return IFrame(src=\"https://open.spotify.com/embed/track/\"+track_id,\n",
    "       width=\"320\",\n",
    "       height=\"80\",\n",
    "       frameborder=\"0\",\n",
    "       allowtransparency=\"true\",\n",
    "       allow=\"encrypted-media\",\n",
    "      )  \n",
    "\n",
    "\n",
    "user_input = input('What are you fancy to listen now?')\n",
    "\n",
    "if user_input in df_b['titles'].values:\n",
    "            print(\"Here you go!\")\n",
    "            user_input_json = sp.search(q=user_input, limit=1)\n",
    "            user_input_id = user_input_json['tracks']['items'][0]['id']\n",
    "            display(play_song(user_input_id))\n",
    "\n",
    "else:\n",
    "        user_input_json=sp.search(q=user_input, limit = 1)\n",
    "        user_input_id = user_input_json['tracks']['items'][0]['id']\n",
    "        display(play_song(user_input_id))\n",
    "        ui_af = sp.audio_features(user_input_id)\n",
    "        ui_df = pd.DataFrame(ui_af[0], index=[0])\n",
    "        ui_df_dropped = ui_df.drop(columns=['analysis_url','id','track_href','type','uri'], axis = 1)\n",
    "        ui_scaled = scaler.transform(ui_df_dropped)\n",
    "        user_cluster = kmeans.predict(ui_scaled)[0]\n",
    "        X['id'] = df['id']\n",
    "        rec_df = X.loc[X['cluster']==user_cluster].sample()\n",
    "        user_rec_id = rec_df['id']\n",
    "        user_id = list(user_rec_id)[0]\n",
    "        print(\"Here you go!\")\n",
    "        display(play_song(user_id))"
   ]
  },
  {
   "cell_type": "code",
   "execution_count": null,
   "id": "8751ff1c",
   "metadata": {},
   "outputs": [],
   "source": []
  }
 ],
 "metadata": {
  "kernelspec": {
   "display_name": "Python 3 (ipykernel)",
   "language": "python",
   "name": "python3"
  },
  "language_info": {
   "codemirror_mode": {
    "name": "ipython",
    "version": 3
   },
   "file_extension": ".py",
   "mimetype": "text/x-python",
   "name": "python",
   "nbconvert_exporter": "python",
   "pygments_lexer": "ipython3",
   "version": "3.11.4"
  }
 },
 "nbformat": 4,
 "nbformat_minor": 5
}

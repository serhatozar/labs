{
 "cells": [
  {
   "cell_type": "code",
   "execution_count": null,
   "id": "ebf48b73",
   "metadata": {},
   "outputs": [],
   "source": [
    "import numpy as np\n",
    "import pandas as pd\n",
    "import matplotlib.pyplot as plt\n",
    "%matplotlib inline\n",
    "import seaborn as sns\n",
    "from sklearn.preprocessing import PowerTransformer\n",
    "from sklearn.compose import ColumnTransformer\n",
    "from sklearn.linear_model import LinearRegression\n",
    "from sklearn.model_selection import train_test_split\n",
    "\n",
    "import statsmodels.api as sm\n",
    "from sklearn.metrics import r2_score\n",
    "from sklearn.metrics import mean_squared_error as mse\n",
    "from sklearn.metrics import mean_absolute_error as mae\n",
    "pd.options.display.max_rows = 50\n",
    "\n",
    "df = pd.read_excel('Amazon_Seller_Data_20_21_22.xlsx')\n",
    "df.head()"
   ]
  },
  {
   "cell_type": "code",
   "execution_count": null,
   "id": "0af3224e",
   "metadata": {},
   "outputs": [],
   "source": [
    "numerical = df.select_dtypes(np.number)\n",
    "categorical = df.select_dtypes('object')"
   ]
  },
  {
   "cell_type": "code",
   "execution_count": null,
   "id": "92d49d52",
   "metadata": {},
   "outputs": [],
   "source": [
    "df.info()"
   ]
  },
  {
   "cell_type": "code",
   "execution_count": null,
   "id": "6e9f40a2",
   "metadata": {},
   "outputs": [],
   "source": [
    "numerical.dropna(inplace=True)"
   ]
  },
  {
   "cell_type": "code",
   "execution_count": null,
   "id": "974290c9",
   "metadata": {},
   "outputs": [],
   "source": [
    "X = numerical['item_weight']\n",
    "y = numerical['total_ship_charge_amt_vat_excl']\n",
    "\n",
    "X_train, X_test, y_train, y_test = train_test_split(X, y, test_size=0.2, random_state=42)\n",
    "\n",
    "y_test"
   ]
  },
  {
   "cell_type": "code",
   "execution_count": null,
   "id": "5600b6ea",
   "metadata": {},
   "outputs": [],
   "source": [
    "X_train.shape"
   ]
  },
  {
   "cell_type": "code",
   "execution_count": null,
   "id": "5b65f572",
   "metadata": {},
   "outputs": [],
   "source": [
    "X_train.array.reshape(-1, 1)"
   ]
  },
  {
   "cell_type": "code",
   "execution_count": null,
   "id": "00097cbe",
   "metadata": {},
   "outputs": [],
   "source": [
    "numerical.columns"
   ]
  },
  {
   "cell_type": "code",
   "execution_count": null,
   "id": "a753b51e",
   "metadata": {},
   "outputs": [],
   "source": [
    "from sklearn.preprocessing import StandardScaler\n",
    "\n",
    "#object = class\n",
    "scaler = StandardScaler()\n",
    "scaler.fit(np.array(X_train))\n",
    "X_train_scaled = scaler.transform(X_train)"
   ]
  },
  {
   "cell_type": "code",
   "execution_count": null,
   "id": "bbd6a395",
   "metadata": {},
   "outputs": [],
   "source": [
    "from sklearn.linear_model import LinearRegression\n",
    "\n",
    "\n",
    "lm = LinearRegression()\n",
    "model = lm.fit(X_train_scaled,y_train)"
   ]
  },
  {
   "cell_type": "code",
   "execution_count": null,
   "id": "b0d8f4b2",
   "metadata": {},
   "outputs": [],
   "source": [
    "model.coef_"
   ]
  },
  {
   "cell_type": "code",
   "execution_count": null,
   "id": "aa2b0fb1",
   "metadata": {},
   "outputs": [],
   "source": [
    "categorical_corr = df_encoded.corr()\n",
    "categorical_corr"
   ]
  },
  {
   "cell_type": "code",
   "execution_count": null,
   "id": "5e03dc2e",
   "metadata": {},
   "outputs": [],
   "source": [
    "categorical['marketplace'].nunique()"
   ]
  },
  {
   "cell_type": "code",
   "execution_count": 13,
   "id": "c1765265",
   "metadata": {
    "scrolled": true
   },
   "outputs": [
    {
     "name": "stdout",
     "output_type": "stream",
     "text": [
      "<class 'pandas.core.frame.DataFrame'>\n",
      "RangeIndex: 9538 entries, 0 to 9537\n",
      "Data columns (total 20 columns):\n",
      " #   Column                         Non-Null Count  Dtype \n",
      "---  ------                         --------------  ----- \n",
      " 0   marketplace                    8938 non-null   object\n",
      " 1   transaction_type               9538 non-null   object\n",
      " 2   asin                           9538 non-null   object\n",
      " 3   product_name                   9521 non-null   object\n",
      " 4   product_type                   9521 non-null   object\n",
      " 5   transaction_currency_code      8149 non-null   object\n",
      " 6   depature_city                  9538 non-null   object\n",
      " 7   departure_country              8692 non-null   object\n",
      " 8   departure_post_code            9528 non-null   object\n",
      " 9   arrival_city                   9538 non-null   object\n",
      " 10  arrival_country                8849 non-null   object\n",
      " 11  arrival_post_code              9535 non-null   object\n",
      " 12  sale_depart_country            8938 non-null   object\n",
      " 13  sale_arrival_country           8938 non-null   object\n",
      " 14  transportation_mode            9270 non-null   object\n",
      " 15  delivery_conditions            9281 non-null   object\n",
      " 16  taxable_jurisdiction           8100 non-null   object\n",
      " 17  export_outside_eu              8100 non-null   object\n",
      " 18  tax_reporting_scheme           6392 non-null   object\n",
      " 19  tax_collection_responsibility  6392 non-null   object\n",
      "dtypes: object(20)\n",
      "memory usage: 1.5+ MB\n"
     ]
    }
   ],
   "source": [
    "categorical.infoa()"
   ]
  },
  {
   "cell_type": "code",
   "execution_count": 14,
   "id": "ba4f2c1e",
   "metadata": {},
   "outputs": [],
   "source": [
    "df_encoded = pd.get_dummies(categorical, drop_first=True, dtype = int)"
   ]
  },
  {
   "cell_type": "code",
   "execution_count": 15,
   "id": "0c4ccfda",
   "metadata": {},
   "outputs": [
    {
     "data": {
      "text/plain": [
       "Index(['marketplace_amazon.com.be', 'marketplace_amazon.de',\n",
       "       'marketplace_amazon.es', 'marketplace_amazon.fr',\n",
       "       'marketplace_amazon.it', 'marketplace_amazon.nl',\n",
       "       'marketplace_amazon.se', 'transaction_type_INBOUND',\n",
       "       'transaction_type_LIQUIDATION_REFUND',\n",
       "       'transaction_type_LIQUIDATION_SALE',\n",
       "       ...\n",
       "       'taxable_jurisdiction_SPAIN', 'taxable_jurisdiction_SWEDEN',\n",
       "       'taxable_jurisdiction_SWITZERLAND',\n",
       "       'taxable_jurisdiction_UNITED KINGDOM', 'export_outside_eu_YES',\n",
       "       'tax_reporting_scheme_NO_VOEC', 'tax_reporting_scheme_REGULAR',\n",
       "       'tax_reporting_scheme_UK_VOEC-DOMESTIC',\n",
       "       'tax_reporting_scheme_UK_VOEC-IMPORT',\n",
       "       'tax_collection_responsibility_SELLER'],\n",
       "      dtype='object', length=10689)"
      ]
     },
     "execution_count": 15,
     "metadata": {},
     "output_type": "execute_result"
    }
   ],
   "source": [
    "df_encoded.columns"
   ]
  }
 ],
 "metadata": {
  "kernelspec": {
   "display_name": "Python 3 (ipykernel)",
   "language": "python",
   "name": "python3"
  },
  "language_info": {
   "codemirror_mode": {
    "name": "ipython",
    "version": 3
   },
   "file_extension": ".py",
   "mimetype": "text/x-python",
   "name": "python",
   "nbconvert_exporter": "python",
   "pygments_lexer": "ipython3",
   "version": "3.11.3"
  }
 },
 "nbformat": 4,
 "nbformat_minor": 5
}

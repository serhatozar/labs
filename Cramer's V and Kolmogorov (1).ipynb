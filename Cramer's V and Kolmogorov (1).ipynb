{
 "cells": [
  {
   "cell_type": "markdown",
   "id": "592912cc",
   "metadata": {},
   "source": [
    "# Relationship between categorical variables"
   ]
  },
  {
   "cell_type": "markdown",
   "id": "92a38116",
   "metadata": {},
   "source": [
    "In this lecture, we will explore the concept of **analyzing relationships between categorical variables** using statistical tests such as the **chi-square (χ²) test and Cramer's V**. \n",
    "\n",
    "- **Chi-square Test**:\n",
    "\n",
    "    - The chi-square test is a statistical test used to **determine whether there is a significant association between two categorical variables**. \n",
    "    - Interpretation: if p-value < 0.05), this suggests that there is a significant association between the categorical variables. P-value >= 0.05, indicates that there is not enough evidence to conclude a significant association between the variables. \n",
    "\n",
    "- **Cramer's V**:\n",
    "\n",
    "    - Cramer's V is a measure of association used to **quantify the strength of the relationship between categorical variables**. \n",
    "    - Interpretation: Cramer's V ranges from 0 to 1, where **0 indicates no association, and 1 represents a perfect association between the variables**. A higher value of Cramer's V indicates a stronger relationship between the categorical variables.\n",
    "\n",
    "\n",
    "In our case, we will apply these tests to examine the **relationship between car manufacturers and car prices**. By analyzing this relationship, we can gain insights into how different manufacturers' cars are priced, identify any significant associations, and understand the impact of the manufacturer on the pricing of cars."
   ]
  },
  {
   "cell_type": "markdown",
   "id": "a56bfeeb",
   "metadata": {},
   "source": [
    "*Only for those math lovers:* \n",
    "- *Chi-square test: compares the observed frequencies in a contingency table with the expected frequencies under the assumption of independence. By assessing the deviation from expected frequencies, the chi-square test helps us determine if the relationship between variables is statistically significant.* \n",
    "- *To interpret the chi-square test results, we consider the p-value and compare it to the significance level (α) chosen for the test. If the p-value is less than α (e.g., p-value < 0.05), we reject the null hypothesis of independence. This suggests that there is a significant association between the categorical variables. If the p-value is greater than or equal to α, we fail to reject the null hypothesis. This indicates that there is not enough evidence to conclude a significant association between the variables.*\n",
    "- *Cramer's V is derived from the chi-square statistic and takes into account the size of the contingency table.*"
   ]
  },
  {
   "cell_type": "markdown",
   "id": "bac8b226",
   "metadata": {},
   "source": [
    "## Dataset\n",
    "\n",
    "The dataset we will look at today is called \"Car Price Prediction Dataset.\" It is a dataset used for predicting the prices of cars based on various features. Here's a brief introduction to the dataset:\n",
    "\n",
    "The dataset contains information about different cars and their respective attributes. It includes both numerical and categorical variables that describe various aspects of the cars. The goal of this dataset is to predict the price of a car based on its features.\n",
    "\n",
    "Here are the key features included in the dataset:\n",
    "\n",
    "1. Manufacturer: The brand or manufacturer of the car.\n",
    "2. Model: The specific model name of the car.\n",
    "3. Location: The location where the car is being sold.\n",
    "4. Year: The manufacturing year of the car.\n",
    "5. Kilometers_Driven: The total distance driven by the car in kilometers.\n",
    "6. Fuel_Type: The type of fuel used by the car (Petrol, Diesel, CNG, LPG, Electric).\n",
    "7. Transmission: The type of transmission system in the car (Manual, Automatic).\n",
    "8. Owner_Type: The number of previous owners of the car (First, Second, Third, Fourth & Above).\n",
    "9. Mileage: The fuel efficiency of the car in kilometers per liter.\n",
    "10. Engine: The engine displacement of the car in cubic centimeters (cc).\n",
    "11. Power: The maximum power output of the car's engine in bhp (brake horsepower).\n",
    "12. Seats: The number of seats available in the car.\n",
    "13. Price: The price of the car in Indian Rupees (INR).\n",
    "\n",
    "*The dataset is often used for regression analysis and machine learning tasks to develop predictive models for car price estimation. By analyzing the relationships between the car's features and its price, valuable insights can be gained for pricing strategies, market analysis, and decision-making in the automotive industry.*\n",
    "\n",
    "We won't get into predictive analytics yet, but **let's use EDA to see if the price of a car and the manufacturer (brand) are related.**"
   ]
  },
  {
   "cell_type": "code",
   "execution_count": 2,
   "id": "c3e6bb7e",
   "metadata": {},
   "outputs": [],
   "source": [
    "import pandas as pd\n",
    "\n",
    "df = pd.read_csv(\"car_price_prediction.csv\")"
   ]
  },
  {
   "cell_type": "code",
   "execution_count": 3,
   "id": "5c5d99dc",
   "metadata": {},
   "outputs": [
    {
     "data": {
      "text/html": [
       "<div>\n",
       "<style scoped>\n",
       "    .dataframe tbody tr th:only-of-type {\n",
       "        vertical-align: middle;\n",
       "    }\n",
       "\n",
       "    .dataframe tbody tr th {\n",
       "        vertical-align: top;\n",
       "    }\n",
       "\n",
       "    .dataframe thead th {\n",
       "        text-align: right;\n",
       "    }\n",
       "</style>\n",
       "<table border=\"1\" class=\"dataframe\">\n",
       "  <thead>\n",
       "    <tr style=\"text-align: right;\">\n",
       "      <th></th>\n",
       "      <th>ID</th>\n",
       "      <th>Price</th>\n",
       "      <th>Levy</th>\n",
       "      <th>Manufacturer</th>\n",
       "      <th>Model</th>\n",
       "      <th>Prod. year</th>\n",
       "      <th>Category</th>\n",
       "      <th>Leather interior</th>\n",
       "      <th>Fuel type</th>\n",
       "      <th>Engine volume</th>\n",
       "      <th>Mileage</th>\n",
       "      <th>Cylinders</th>\n",
       "      <th>Gear box type</th>\n",
       "      <th>Drive wheels</th>\n",
       "      <th>Doors</th>\n",
       "      <th>Wheel</th>\n",
       "      <th>Color</th>\n",
       "      <th>Airbags</th>\n",
       "    </tr>\n",
       "  </thead>\n",
       "  <tbody>\n",
       "    <tr>\n",
       "      <th>0</th>\n",
       "      <td>45654403</td>\n",
       "      <td>13328</td>\n",
       "      <td>1399</td>\n",
       "      <td>LEXUS</td>\n",
       "      <td>RX 450</td>\n",
       "      <td>2010</td>\n",
       "      <td>Jeep</td>\n",
       "      <td>Yes</td>\n",
       "      <td>Hybrid</td>\n",
       "      <td>3.5</td>\n",
       "      <td>186005 km</td>\n",
       "      <td>6.0</td>\n",
       "      <td>Automatic</td>\n",
       "      <td>4x4</td>\n",
       "      <td>04-May</td>\n",
       "      <td>Left wheel</td>\n",
       "      <td>Silver</td>\n",
       "      <td>12</td>\n",
       "    </tr>\n",
       "    <tr>\n",
       "      <th>1</th>\n",
       "      <td>44731507</td>\n",
       "      <td>16621</td>\n",
       "      <td>1018</td>\n",
       "      <td>CHEVROLET</td>\n",
       "      <td>Equinox</td>\n",
       "      <td>2011</td>\n",
       "      <td>Jeep</td>\n",
       "      <td>No</td>\n",
       "      <td>Petrol</td>\n",
       "      <td>3</td>\n",
       "      <td>192000 km</td>\n",
       "      <td>6.0</td>\n",
       "      <td>Tiptronic</td>\n",
       "      <td>4x4</td>\n",
       "      <td>04-May</td>\n",
       "      <td>Left wheel</td>\n",
       "      <td>Black</td>\n",
       "      <td>8</td>\n",
       "    </tr>\n",
       "    <tr>\n",
       "      <th>2</th>\n",
       "      <td>45774419</td>\n",
       "      <td>8467</td>\n",
       "      <td>-</td>\n",
       "      <td>HONDA</td>\n",
       "      <td>FIT</td>\n",
       "      <td>2006</td>\n",
       "      <td>Hatchback</td>\n",
       "      <td>No</td>\n",
       "      <td>Petrol</td>\n",
       "      <td>1.3</td>\n",
       "      <td>200000 km</td>\n",
       "      <td>4.0</td>\n",
       "      <td>Variator</td>\n",
       "      <td>Front</td>\n",
       "      <td>04-May</td>\n",
       "      <td>Right-hand drive</td>\n",
       "      <td>Black</td>\n",
       "      <td>2</td>\n",
       "    </tr>\n",
       "    <tr>\n",
       "      <th>3</th>\n",
       "      <td>45769185</td>\n",
       "      <td>3607</td>\n",
       "      <td>862</td>\n",
       "      <td>FORD</td>\n",
       "      <td>Escape</td>\n",
       "      <td>2011</td>\n",
       "      <td>Jeep</td>\n",
       "      <td>Yes</td>\n",
       "      <td>Hybrid</td>\n",
       "      <td>2.5</td>\n",
       "      <td>168966 km</td>\n",
       "      <td>4.0</td>\n",
       "      <td>Automatic</td>\n",
       "      <td>4x4</td>\n",
       "      <td>04-May</td>\n",
       "      <td>Left wheel</td>\n",
       "      <td>White</td>\n",
       "      <td>0</td>\n",
       "    </tr>\n",
       "    <tr>\n",
       "      <th>4</th>\n",
       "      <td>45809263</td>\n",
       "      <td>11726</td>\n",
       "      <td>446</td>\n",
       "      <td>HONDA</td>\n",
       "      <td>FIT</td>\n",
       "      <td>2014</td>\n",
       "      <td>Hatchback</td>\n",
       "      <td>Yes</td>\n",
       "      <td>Petrol</td>\n",
       "      <td>1.3</td>\n",
       "      <td>91901 km</td>\n",
       "      <td>4.0</td>\n",
       "      <td>Automatic</td>\n",
       "      <td>Front</td>\n",
       "      <td>04-May</td>\n",
       "      <td>Left wheel</td>\n",
       "      <td>Silver</td>\n",
       "      <td>4</td>\n",
       "    </tr>\n",
       "  </tbody>\n",
       "</table>\n",
       "</div>"
      ],
      "text/plain": [
       "         ID  Price  Levy Manufacturer    Model  Prod. year   Category  \\\n",
       "0  45654403  13328  1399        LEXUS   RX 450        2010       Jeep   \n",
       "1  44731507  16621  1018    CHEVROLET  Equinox        2011       Jeep   \n",
       "2  45774419   8467     -        HONDA      FIT        2006  Hatchback   \n",
       "3  45769185   3607   862         FORD   Escape        2011       Jeep   \n",
       "4  45809263  11726   446        HONDA      FIT        2014  Hatchback   \n",
       "\n",
       "  Leather interior Fuel type Engine volume    Mileage  Cylinders  \\\n",
       "0              Yes    Hybrid           3.5  186005 km        6.0   \n",
       "1               No    Petrol             3  192000 km        6.0   \n",
       "2               No    Petrol           1.3  200000 km        4.0   \n",
       "3              Yes    Hybrid           2.5  168966 km        4.0   \n",
       "4              Yes    Petrol           1.3   91901 km        4.0   \n",
       "\n",
       "  Gear box type Drive wheels   Doors             Wheel   Color  Airbags  \n",
       "0     Automatic          4x4  04-May        Left wheel  Silver       12  \n",
       "1     Tiptronic          4x4  04-May        Left wheel   Black        8  \n",
       "2      Variator        Front  04-May  Right-hand drive   Black        2  \n",
       "3     Automatic          4x4  04-May        Left wheel   White        0  \n",
       "4     Automatic        Front  04-May        Left wheel  Silver        4  "
      ]
     },
     "execution_count": 3,
     "metadata": {},
     "output_type": "execute_result"
    }
   ],
   "source": [
    "df.head()"
   ]
  },
  {
   "cell_type": "markdown",
   "id": "de86deef",
   "metadata": {},
   "source": [
    "# Chi-square and Cramer's V - categorical variables correlation"
   ]
  },
  {
   "cell_type": "markdown",
   "id": "14e83a6e",
   "metadata": {},
   "source": [
    "We'll use **chi square test to assess the independence between Price and Manufacturer**, and **Cramer's V coefficient to quantify the strength of the association between these two features**."
   ]
  },
  {
   "cell_type": "markdown",
   "id": "101ff766",
   "metadata": {},
   "source": [
    "It's worth noting that in order to perform this analysis, both features need to be categorical. We'll start by dividing the price variable into five distinct ranges to make it categorical/discrete."
   ]
  },
  {
   "cell_type": "code",
   "execution_count": null,
   "id": "4c35ece4",
   "metadata": {},
   "outputs": [],
   "source": [
    "# Create price ranges using quantiles into 5 price ranges\n",
    "df['price_range'] = pd.qcut(df['Price'], q=5)"
   ]
  },
  {
   "cell_type": "markdown",
   "id": "82cb065b",
   "metadata": {},
   "source": [
    "To calculate chi-square and Cramer's V using Python, we can utilize the scipy library. \n"
   ]
  },
  {
   "cell_type": "code",
   "execution_count": 9,
   "id": "a365643a",
   "metadata": {},
   "outputs": [
    {
     "name": "stdout",
     "output_type": "stream",
     "text": [
      "Chi-Square Test Results:\n",
      "Test Statistic: 5010.359543865411\n",
      "p-value: 0.0\n",
      "Degrees of Freedom: 256\n"
     ]
    }
   ],
   "source": [
    "from scipy.stats import chi2_contingency\n",
    "\n",
    "# Create a contingency table of manufacturer and price\n",
    "contingency_table = pd.crosstab(df['Manufacturer'], df['price_range'])\n",
    "\n",
    "# Perform the chi-square test\n",
    "stat, p, dof, expected = chi2_contingency(contingency_table)\n",
    "\n",
    "# Print the results\n",
    "print('Chi-Square Test Results:')\n",
    "print('Test Statistic:', stat)\n",
    "print('p-value:', p)\n",
    "print('Degrees of Freedom:', dof)"
   ]
  },
  {
   "cell_type": "markdown",
   "id": "51f91a04",
   "metadata": {},
   "source": [
    "We'll just look at the p-value right now. "
   ]
  },
  {
   "cell_type": "markdown",
   "id": "536268df",
   "metadata": {},
   "source": [
    "We just mentioned that *if p-value < 0.05), this suggests that there is a significant association between the categorical variables.*\n",
    "\n",
    "Based on this result, it seems that **there is a significant relationship between the variables** being tested, as indicated by the very low p-value. "
   ]
  },
  {
   "cell_type": "markdown",
   "id": "0af0c336",
   "metadata": {},
   "source": [
    "Now, let's look at the **strength of that relationship**."
   ]
  },
  {
   "cell_type": "code",
   "execution_count": 10,
   "id": "0c4a5975",
   "metadata": {},
   "outputs": [
    {
     "data": {
      "text/plain": [
       "0.2551736218170179"
      ]
     },
     "execution_count": 10,
     "metadata": {},
     "output_type": "execute_result"
    }
   ],
   "source": [
    "from scipy.stats.contingency import association\n",
    "\n",
    "association(contingency_table, method=\"cramer\")"
   ]
  },
  {
   "cell_type": "markdown",
   "id": "866e8ced",
   "metadata": {},
   "source": [
    "We mentioned above that *The value of Cramer's V ranges between 0 and 1, where 0 indicates no association and 1 represents a perfect association between the variables.*\n",
    "\n",
    "Cramer's V value: The calculated value of 0.2551736218170179 indicates a **moderate strength of association between the categorical variables** in the contingency table. It suggests that there is some relationship or dependency between the variables."
   ]
  },
  {
   "cell_type": "markdown",
   "id": "3d5b76e0",
   "metadata": {},
   "source": [
    "# Normality tests: Kolmogorov - Smirnov"
   ]
  },
  {
   "cell_type": "markdown",
   "id": "aa23422d",
   "metadata": {},
   "source": [
    "In data analysis, it is often important to assess the distributional properties of a dataset since **many statistical techniques assume that the data follow a normal distribution**. \n",
    "\n",
    "Normality tests are statistical tests that help us **determine if a given dataset follows a normal distribution** or if it significantly deviates from it. One commonly used normality test is the Kolmogorov-Smirnov test.\n",
    "\n",
    "Applications:\n",
    "\n",
    "1. **Assumption Testing**: Normality tests are employed to **assess the assumption of normality in various statistical techniques, such as t-tests, analysis of variance (ANOVA), linear regression, and others**. Violations of normality assumptions may require alternative approaches or data transformations.\n",
    "\n",
    "2. **Data Exploration**: Normality tests help analysts understand the distributional properties of the data they are working with. This information can **guide the selection of appropriate statistical methods and provide insights into the nature of the variables**.\n"
   ]
  },
  {
   "cell_type": "markdown",
   "id": "98468421",
   "metadata": {},
   "source": [
    "By conducting the Kolmogorov-Smirnov test, we can gain insights into the distributional properties of the \"price\" variable and determine if it follows a normal distribution or not."
   ]
  },
  {
   "cell_type": "code",
   "execution_count": 11,
   "id": "1d3e1a4b",
   "metadata": {},
   "outputs": [],
   "source": [
    "from scipy.stats import kstest, norm"
   ]
  },
  {
   "cell_type": "code",
   "execution_count": 20,
   "id": "88b884ca",
   "metadata": {},
   "outputs": [],
   "source": [
    "# extract the property price data\n",
    "property_price = df['Price']"
   ]
  },
  {
   "cell_type": "code",
   "execution_count": 21,
   "id": "cf301b75",
   "metadata": {},
   "outputs": [
    {
     "data": {
      "text/plain": [
       "KstestResult(statistic=0.9991162853366435, pvalue=0.0)"
      ]
     },
     "execution_count": 21,
     "metadata": {},
     "output_type": "execute_result"
    }
   ],
   "source": [
    "#perform Kolmogorov-Smirnov test for normality\n",
    "kstest_result = kstest(property_price, 'norm') #NOT NORMAL\n",
    "kstest_result"
   ]
  },
  {
   "cell_type": "code",
   "execution_count": 22,
   "id": "44a1b7e4",
   "metadata": {},
   "outputs": [
    {
     "name": "stdout",
     "output_type": "stream",
     "text": [
      "The test results indicate that the distribution of car prices is significantly different from a normal distribution.\n"
     ]
    }
   ],
   "source": [
    "# print the test result\n",
    "if kstest_result.pvalue < 0.05:\n",
    "    print('The test results indicate that the distribution of car prices is significantly different from a normal distribution.')\n",
    "else:\n",
    "    print('The test results indicate that the distribution of car prices is not significantly different from a normal distribution.')"
   ]
  }
 ],
 "metadata": {
  "kernelspec": {
   "display_name": "Python 3 (ipykernel)",
   "language": "python",
   "name": "python3"
  },
  "language_info": {
   "codemirror_mode": {
    "name": "ipython",
    "version": 3
   },
   "file_extension": ".py",
   "mimetype": "text/x-python",
   "name": "python",
   "nbconvert_exporter": "python",
   "pygments_lexer": "ipython3",
   "version": "3.9.13"
  }
 },
 "nbformat": 4,
 "nbformat_minor": 5
}
